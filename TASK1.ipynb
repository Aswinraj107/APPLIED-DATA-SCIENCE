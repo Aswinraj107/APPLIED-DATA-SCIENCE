{
  "nbformat": 4,
  "nbformat_minor": 0,
  "metadata": {
    "colab": {
      "provenance": []
    },
    "kernelspec": {
      "name": "python3",
      "display_name": "Python 3"
    },
    "language_info": {
      "name": "python"
    }
  },
  "cells": [
    {
      "cell_type": "markdown",
      "source": [
        "# NAME - ASWIN RAJ\n",
        "# REG NO - 20MID0009\n",
        "#CAMPUS - VIT VELLORE"
      ],
      "metadata": {
        "id": "cy6mWmg8nnbr"
      }
    },
    {
      "cell_type": "markdown",
      "source": [
        "**1)Assign your Name to variable name and Age to variable age. Make a Python program that prints your name and age.**\n"
      ],
      "metadata": {
        "id": "VuqO_eOs6qCk"
      }
    },
    {
      "cell_type": "code",
      "execution_count": null,
      "metadata": {
        "colab": {
          "base_uri": "https://localhost:8080/"
        },
        "id": "3CjdPFnjeK0I",
        "outputId": "6aab02c8-10fe-4bcd-cffe-08a9bcd7a97d"
      },
      "outputs": [
        {
          "output_type": "stream",
          "name": "stdout",
          "text": [
            "NAME AND AGE =  ASWIN RAJ 20\n"
          ]
        }
      ],
      "source": [
        "x = \"ASWIN RAJ\"\n",
        "y = 20\n",
        "print(\"NAME AND AGE = \",x,y)"
      ]
    },
    {
      "cell_type": "markdown",
      "source": [
        "**2)X=\"Datascience is used to extract meaningful insights.\"Split the string**"
      ],
      "metadata": {
        "id": "3Fv1gX1n60pk"
      }
    },
    {
      "cell_type": "code",
      "source": [
        "X=\"Datascience is used to extract meaningful insights.\"\n",
        "splitwords = X.split()\n",
        "print(splitwords)"
      ],
      "metadata": {
        "colab": {
          "base_uri": "https://localhost:8080/"
        },
        "id": "sZtxkkgaejUQ",
        "outputId": "e993ff50-2b1b-4453-c460-2042fb23d7ab"
      },
      "execution_count": null,
      "outputs": [
        {
          "output_type": "stream",
          "name": "stdout",
          "text": [
            "['Datascience', 'is', 'used', 'to', 'extract', 'meaningful', 'insights.']\n"
          ]
        }
      ]
    },
    {
      "cell_type": "markdown",
      "source": [
        "**3. Make a function that gives multiplication of two numbers**"
      ],
      "metadata": {
        "id": "O4yEAmbu69z2"
      }
    },
    {
      "cell_type": "code",
      "source": [
        "def mul(x,y):\n",
        "  z = x*y\n",
        "  return z\n",
        "x = int(input(\"Input the value of x :\"))\n",
        "y = int(input(\"Input the value of y :\"))  \n",
        "print(mul(x,y))"
      ],
      "metadata": {
        "colab": {
          "base_uri": "https://localhost:8080/"
        },
        "id": "1WsLw4IzfXlI",
        "outputId": "dd5d9a2e-e82e-4c2e-8420-555e5a45aaa8"
      },
      "execution_count": null,
      "outputs": [
        {
          "output_type": "stream",
          "name": "stdout",
          "text": [
            "Input the value of x :10\n",
            "Input the value of y :5\n",
            "50\n"
          ]
        }
      ]
    },
    {
      "cell_type": "markdown",
      "source": [
        "**4. Create a Dictionary of 5 States with their capitals. also print the keys and values**"
      ],
      "metadata": {
        "id": "91jGIARg7C_F"
      }
    },
    {
      "cell_type": "code",
      "source": [
        "X = {\"Kerala\":\"Trivandrum\",\"Tamil Nadu\": \"Chennai\",\"West Bengal\":\"Kolkata\",\"Andhra Pradesh\":\"Amravathi\",\"Karnataka\":\"Banglore\"}\n",
        "print(\"States\")\n",
        "for state in X.keys():\n",
        "  print(state)\n",
        "print(\"\\nCapital\")  \n",
        "for capital in X.values():\n",
        "  print(capital)  "
      ],
      "metadata": {
        "colab": {
          "base_uri": "https://localhost:8080/"
        },
        "id": "P8-IYuhafmsZ",
        "outputId": "e1beacf0-0017-44e5-cb7f-ab57f8772422"
      },
      "execution_count": null,
      "outputs": [
        {
          "output_type": "stream",
          "name": "stdout",
          "text": [
            "States\n",
            "Kerala\n",
            "Tamil Nadu\n",
            "West Bengal\n",
            "Andhra Pradesh\n",
            "Karnataka\n",
            "\n",
            "Capital\n",
            "Trivandrum\n",
            "Chennai\n",
            "Kolkata\n",
            "Amravathi\n",
            "Banglore\n"
          ]
        }
      ]
    },
    {
      "cell_type": "markdown",
      "source": [
        "**5. Create a list of 1000 numbers using range function.**"
      ],
      "metadata": {
        "id": "7ZIJl7d17Gpd"
      }
    },
    {
      "cell_type": "code",
      "source": [
        "A = list(range(1,1001))"
      ],
      "metadata": {
        "id": "qitWv6BUjI6L"
      },
      "execution_count": null,
      "outputs": []
    },
    {
      "cell_type": "markdown",
      "source": [
        "**6. Create an identity matrix of dimension 4 by 4**"
      ],
      "metadata": {
        "id": "ZFcvs6Nx7Pi4"
      }
    },
    {
      "cell_type": "code",
      "source": [
        "import numpy as np\n",
        "matrix = np.eye(4)\n",
        "print(matrix)"
      ],
      "metadata": {
        "colab": {
          "base_uri": "https://localhost:8080/"
        },
        "id": "V0eOrCwpj2s_",
        "outputId": "ec7c484c-9742-4e8e-a1a4-0875023744ec"
      },
      "execution_count": null,
      "outputs": [
        {
          "output_type": "stream",
          "name": "stdout",
          "text": [
            "[[1. 0. 0. 0.]\n",
            " [0. 1. 0. 0.]\n",
            " [0. 0. 1. 0.]\n",
            " [0. 0. 0. 1.]]\n"
          ]
        }
      ]
    },
    {
      "cell_type": "markdown",
      "source": [
        "**7. Create a 3x3 matrix with values ranging from 1 to 9**\n"
      ],
      "metadata": {
        "id": "uZ9hPruk7WIo"
      }
    },
    {
      "cell_type": "code",
      "source": [
        "import numpy as np\n",
        "matrix2 = np.arange(1,10).reshape(3,3)\n",
        "print(matrix2)"
      ],
      "metadata": {
        "colab": {
          "base_uri": "https://localhost:8080/"
        },
        "id": "uchFK6aZkO13",
        "outputId": "c079df9b-9fcb-4f8a-b00d-961f786aa482"
      },
      "execution_count": null,
      "outputs": [
        {
          "output_type": "stream",
          "name": "stdout",
          "text": [
            "[[1 2 3]\n",
            " [4 5 6]\n",
            " [7 8 9]]\n"
          ]
        }
      ]
    },
    {
      "cell_type": "markdown",
      "source": [
        "**8. Create 2 similar dimensional array and perform sum on them**"
      ],
      "metadata": {
        "id": "mx9Y5qq27Z1x"
      }
    },
    {
      "cell_type": "code",
      "source": [
        "import numpy as np\n",
        "array1 = np.array([[1,2,3],[4,5,6],[7,8,9]])\n",
        "array2 = np.array([[10,11,12],[13,14,15],[16,17,18]])\n",
        "sum = array1+array2\n",
        "print(sum)"
      ],
      "metadata": {
        "colab": {
          "base_uri": "https://localhost:8080/"
        },
        "id": "sveVoW0iknN3",
        "outputId": "0f68d152-481d-4d7e-9028-d9306df0ebd3"
      },
      "execution_count": null,
      "outputs": [
        {
          "output_type": "stream",
          "name": "stdout",
          "text": [
            "[[11 13 15]\n",
            " [17 19 21]\n",
            " [23 25 27]]\n"
          ]
        }
      ]
    },
    {
      "cell_type": "markdown",
      "source": [
        "**9. Generate the series of dates from 1st Feb, 2023 to 1st March, 2023 (both inclusive)**\n"
      ],
      "metadata": {
        "id": "u1ry77pw7fTj"
      }
    },
    {
      "cell_type": "code",
      "source": [
        "import pandas as pd\n",
        "\n",
        "startdate = \"2023-02-01\"\n",
        "enddate = \"2023-03-01\"\n",
        "\n",
        "date_range = pd.date_range(start=startdate, end=enddate, closed='left')\n",
        "\n",
        "for date in date_range:\n",
        "    print(date.strftime('%d %B, %Y'))\n"
      ],
      "metadata": {
        "colab": {
          "base_uri": "https://localhost:8080/"
        },
        "id": "W6Phv67EmAzs",
        "outputId": "e8957196-30e2-4605-bdc2-93282fcba88e"
      },
      "execution_count": null,
      "outputs": [
        {
          "output_type": "stream",
          "name": "stdout",
          "text": [
            "01 February, 2023\n",
            "02 February, 2023\n",
            "03 February, 2023\n",
            "04 February, 2023\n",
            "05 February, 2023\n",
            "06 February, 2023\n",
            "07 February, 2023\n",
            "08 February, 2023\n",
            "09 February, 2023\n",
            "10 February, 2023\n",
            "11 February, 2023\n",
            "12 February, 2023\n",
            "13 February, 2023\n",
            "14 February, 2023\n",
            "15 February, 2023\n",
            "16 February, 2023\n",
            "17 February, 2023\n",
            "18 February, 2023\n",
            "19 February, 2023\n",
            "20 February, 2023\n",
            "21 February, 2023\n",
            "22 February, 2023\n",
            "23 February, 2023\n",
            "24 February, 2023\n",
            "25 February, 2023\n",
            "26 February, 2023\n",
            "27 February, 2023\n",
            "28 February, 2023\n"
          ]
        },
        {
          "output_type": "stream",
          "name": "stderr",
          "text": [
            "<ipython-input-20-3bbcbe35e1e7>:6: FutureWarning: Argument `closed` is deprecated in favor of `inclusive`.\n",
            "  date_range = pd.date_range(start=startdate, end=enddate, closed='left')\n"
          ]
        }
      ]
    },
    {
      "cell_type": "markdown",
      "source": [
        "**10. Given a dictionary, convert it into corresponding dataframe and display it dictionary **= {'Brand': ['Maruti', 'Renault', 'Hyndai'], 'Sales' : [250, 200,240]} "
      ],
      "metadata": {
        "id": "WQLR4rSw7mqO"
      }
    },
    {
      "cell_type": "code",
      "source": [
        "import pandas as pd\n",
        "dictionary = {'Brand': ['Maruti', 'Renault', 'Hyndai'], 'Sales' : [250, 200, 240]}\n",
        "df = pd.DataFrame(dictionary)\n",
        "print(df)"
      ],
      "metadata": {
        "colab": {
          "base_uri": "https://localhost:8080/"
        },
        "id": "q4LVjOJqlVty",
        "outputId": "a39a059a-3e2b-4aaa-c906-ea58eb228ebd"
      },
      "execution_count": null,
      "outputs": [
        {
          "output_type": "stream",
          "name": "stdout",
          "text": [
            "     Brand  Sales\n",
            "0   Maruti    250\n",
            "1  Renault    200\n",
            "2   Hyndai    240\n"
          ]
        }
      ]
    }
  ]
}